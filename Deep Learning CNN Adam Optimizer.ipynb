{
 "cells": [
  {
   "cell_type": "code",
   "execution_count": null,
   "metadata": {},
   "outputs": [],
   "source": [
    "import numpy as np\n",
    "import pandas as pd\n",
    "import matplotlib.pyplot as plt\n",
    "import seaborn as sns\n",
    "import cv2\n",
    "import tensorflow as tf\n",
    "from keras.preprocessing import image_dataset_from_directory\n",
    "from keras.preprocessing.image import img_to_array\n",
    "import glob\n",
    "import os\n",
    "from sklearn.model_selection import train_test_split\n",
    "from sklearn.preprocessing import LabelEncoder\n",
    "\n",
    "# Mengimpor modul yang diperlukan\n",
    "import os\n",
    "import warnings;\n",
    "warnings.filterwarnings('ignore');"
   ]
  },
  {
   "cell_type": "markdown",
   "metadata": {},
   "source": [
    "### Load Dataset"
   ]
  },
  {
   "cell_type": "code",
   "execution_count": null,
   "metadata": {},
   "outputs": [],
   "source": [
    "data_dir= r'C:\\Users\\user01\\Downloads\\Advance Deep Learning\\Tugas UTS\\deep_learning_cnn_fruit_classification\\archive'"
   ]
  },
  {
   "cell_type": "markdown",
   "metadata": {},
   "source": [
    "### Data Prepration And Preprocessing"
   ]
  },
  {
   "cell_type": "code",
   "execution_count": null,
   "metadata": {},
   "outputs": [],
   "source": [
    "images_path=glob.glob(data_dir+'/**/*.jpg',recursive=True, root_dir=data_dir)"
   ]
  },
  {
   "cell_type": "code",
   "execution_count": null,
   "metadata": {},
   "outputs": [],
   "source": [
    "images_path[:5]"
   ]
  },
  {
   "cell_type": "code",
   "execution_count": null,
   "metadata": {},
   "outputs": [],
   "source": [
    "labels= []\n",
    "for img in images_path :\n",
    "    lab= os.path.dirname(img)\n",
    "    labels.append(lab)"
   ]
  },
  {
   "cell_type": "code",
   "execution_count": null,
   "metadata": {},
   "outputs": [],
   "source": [
    "image_labels=[]\n",
    "for label in labels:\n",
    "    lab=label.split('/')[-1]\n",
    "    image_labels.append(lab)"
   ]
  },
  {
   "cell_type": "code",
   "execution_count": null,
   "metadata": {},
   "outputs": [],
   "source": [
    "image_labels[:10]"
   ]
  },
  {
   "cell_type": "code",
   "execution_count": null,
   "metadata": {},
   "outputs": [],
   "source": [
    "preprocessed_images = []\n",
    "\n",
    "\n",
    "for file in images_path:\n",
    "    img = cv2.imread(file)\n",
    "    img = cv2.cvtColor(img, cv2.COLOR_BGR2RGB)\n",
    "    img = cv2.resize(img, (128,128))\n",
    "    img = img / 255\n",
    "    \n",
    "    preprocessed_images.append(img)"
   ]
  },
  {
   "cell_type": "code",
   "execution_count": null,
   "metadata": {},
   "outputs": [],
   "source": [
    "X= np.array(preprocessed_images)"
   ]
  },
  {
   "cell_type": "code",
   "execution_count": null,
   "metadata": {},
   "outputs": [],
   "source": [
    "X.shape"
   ]
  },
  {
   "cell_type": "code",
   "execution_count": null,
   "metadata": {},
   "outputs": [],
   "source": [
    "# visualize sample images\n",
    "attribute = image_dataset_from_directory(data_dir, image_size=(100,100))\n",
    "plt.figure(figsize=(20,25))\n",
    "for image, labels in attribute.take(1):\n",
    "  for i in range (25):\n",
    "    plt.subplot(5,5, i + 1)\n",
    "    plt.imshow(np.array(image[i]).astype(\"uint8\"))\n",
    "    plt.title(attribute.class_names[labels[i]])\n",
    "    plt.axis(\"off\")"
   ]
  },
  {
   "cell_type": "code",
   "execution_count": null,
   "metadata": {},
   "outputs": [],
   "source": [
    "y = np.array(image_labels)"
   ]
  },
  {
   "cell_type": "code",
   "execution_count": null,
   "metadata": {},
   "outputs": [],
   "source": [
    "encoder = LabelEncoder()\n",
    "y = encoder.fit_transform(y)"
   ]
  },
  {
   "cell_type": "markdown",
   "metadata": {},
   "source": [
    "### Splittin Data"
   ]
  },
  {
   "cell_type": "code",
   "execution_count": null,
   "metadata": {},
   "outputs": [],
   "source": [
    "X_train, X_test, y_train, y_test = train_test_split(X,y,test_size=0.2,random_state=42,shuffle=True)\n",
    "X_train, X_val, y_train, y_val = train_test_split(X_train, y_train, test_size=0.2, random_state=42)"
   ]
  },
  {
   "cell_type": "markdown",
   "metadata": {},
   "source": [
    "## Modelling"
   ]
  },
  {
   "cell_type": "markdown",
   "metadata": {},
   "source": [
    "### CNN with 1 Convolutional Layer, 1 max pooling, 2 FC"
   ]
  },
  {
   "cell_type": "code",
   "execution_count": null,
   "metadata": {},
   "outputs": [],
   "source": [
    "# Function to build the CNN model with one hidden layer\n",
    "def build_model_one_convolution():\n",
    "    model = tf.keras.models.Sequential([\n",
    "        tf.keras.layers.Conv2D(32, (3, 3), activation='relu', input_shape=(128, 128, 3)), # Tambahkan Convolutional Layer pertama dengan 32 filter, ukuran kernel 3x3, dan aktivasi ReLU\n",
    "        tf.keras.layers.MaxPooling2D(pool_size=(2, 2)),                 # Tambahkan Max Pooling Layer pertama dengan ukuran pool 2x2\n",
    "      \n",
    "        tf.keras.layers.Flatten(),                                      # Tambahkan Flatten Layer untuk meratakan output\n",
    "        tf.keras.layers.Dense(64, activation='relu'),                   # Tambahkan Fully Connected Layer pertama dengan 64 neuron dan aktivasi ReLU\n",
    "        tf.keras.layers.Dense(32, activation='relu'),                   # Tambahkan Fully Connected Layer pertama dengan 64 neuron dan aktivasi ReLU\n",
    "      \n",
    "        tf.keras.layers.Dense(6, activation='softmax')                  # Tambahkan Fully Connected Layer untuk output dengan jumlah kelas sebagai output dan aktivasi softmax\n",
    "    ])\n",
    "   \n",
    "    return model"
   ]
  },
  {
   "cell_type": "markdown",
   "metadata": {},
   "source": [
    "### CNN with 2 Convolutional Layer, 1 max pooling, 2 FC"
   ]
  },
  {
   "cell_type": "code",
   "execution_count": null,
   "metadata": {},
   "outputs": [],
   "source": [
    "# Function to build the CNN model with one hidden layer\n",
    "def build_model_two_convolution():\n",
    "    model = tf.keras.models.Sequential([\n",
    "        tf.keras.layers.Conv2D(32, (3, 3), activation='relu', input_shape=(128, 128, 3)), # Tambahkan Convolutional Layer pertama dengan 32 filter, ukuran kernel 3x3, dan aktivasi ReLU\n",
    "        tf.keras.layers.Conv2D(64, (3, 3), activation='relu'),          # Tambahkan Convolutional Layer kedua dengan 64 filter, ukuran kernel 3x3, dan aktivasi ReLU\n",
    "        tf.keras.layers.MaxPooling2D(pool_size=(2, 2)),                 # Tambahkan Max Pooling Layer pertama dengan ukuran pool 2x2\n",
    "        \n",
    "        tf.keras.layers.Flatten(),                                      # Tambahkan Flatten Layer untuk meratakan output\n",
    "        tf.keras.layers.Dense(64, activation='relu'),                   # Tambahkan Fully Connected Layer pertama dengan 64 neuron dan aktivasi ReLU\n",
    "        tf.keras.layers.Dense(32, activation='relu'),                   # Tambahkan Fully Connected Layer kedua dengan 32 neuron dan aktivasi ReLU\n",
    "        \n",
    "        tf.keras.layers.Dense(6, activation='softmax')        # Tambahkan Fully Connected Layer untuk output dengan jumlah kelas sebagai output dan aktivasi softmax\n",
    "    ])\n",
    "   \n",
    "    return model"
   ]
  },
  {
   "cell_type": "markdown",
   "metadata": {},
   "source": [
    "### CNN with 3 Convolutional Layer, 2 max pooling, 2 FC"
   ]
  },
  {
   "cell_type": "code",
   "execution_count": null,
   "metadata": {},
   "outputs": [],
   "source": [
    "# Function to build the CNN model with one hidden layer\n",
    "def build_model_three_convolution():\n",
    "    model = tf.keras.models.Sequential([\n",
    "        tf.keras.layers.Conv2D(32, (3, 3), activation='relu', input_shape=(128, 128, 3)), # Tambahkan Convolutional Layer pertama dengan 32 filter, ukuran kernel 3x3, dan aktivasi ReLU\n",
    "        tf.keras.layers.Conv2D(64, (3, 3), activation='relu'),          # Tambahkan Convolutional Layer kedua dengan 64 filter, ukuran kernel 3x3, dan aktivasi ReLU\n",
    "        tf.keras.layers.MaxPooling2D(pool_size=(2, 2)),                 # Tambahkan Max Pooling Layer pertama dengan ukuran pool 2x2\n",
    "        \n",
    "        tf.keras.layers.Conv2D(128, (3, 3), activation='relu'),         # Tambahkan Convolutional Layer ketiga dengan 128 filter, ukuran kernel 3x3, dan aktivasi ReLU\n",
    "        tf.keras.layers.MaxPooling2D(pool_size=(2, 2)),                 # Tambahkan Max Pooling Layer kedua dengan ukuran pool 2x2\n",
    "        \n",
    "        tf.keras.layers.Flatten(),                                      # Tambahkan Flatten Layer untuk meratakan output\n",
    "        tf.keras.layers.Dense(64, activation='relu'),                   # Tambahkan Fully Connected Layer pertama dengan 64 neuron dan aktivasi ReLU\n",
    "        tf.keras.layers.Dense(32, activation='relu'),                   # Tambahkan Fully Connected Layer kedua dengan 32 neuron dan aktivasi ReLU\n",
    "        \n",
    "        tf.keras.layers.Dense(6, activation='softmax')        # Tambahkan Fully Connected Layer untuk output dengan jumlah kelas sebagai output dan aktivasi softmax\n",
    "    ])\n",
    "   \n",
    "    return model"
   ]
  },
  {
   "cell_type": "markdown",
   "metadata": {},
   "source": [
    "### CNN with 4 Convolutional Layer, 2 max pooling, 2 FC"
   ]
  },
  {
   "cell_type": "code",
   "execution_count": null,
   "metadata": {},
   "outputs": [],
   "source": [
    "# Function to build the CNN model with one hidden layer\n",
    "def build_model_four_convolution():\n",
    "    model = tf.keras.models.Sequential([\n",
    "        tf.keras.layers.Conv2D(32, (3, 3), activation='relu', input_shape=(128, 128, 3)), # Tambahkan Convolutional Layer pertama dengan 32 filter, ukuran kernel 3x3, dan aktivasi ReLU\n",
    "        tf.keras.layers.Conv2D(64, (3, 3), activation='relu'),          # Tambahkan Convolutional Layer kedua dengan 64 filter, ukuran kernel 3x3, dan aktivasi ReLU\n",
    "        tf.keras.layers.MaxPooling2D(pool_size=(2, 2)),                 # Tambahkan Max Pooling Layer pertama dengan ukuran pool 2x2\n",
    "        \n",
    "        tf.keras.layers.Conv2D(128, (3, 3), activation='relu'),         # Tambahkan Convolutional Layer ketiga dengan 128 filter, ukuran kernel 3x3, dan aktivasi ReLU\n",
    "        tf.keras.layers.Conv2D(256, (3, 3), activation='relu'),         # Tambahkan Convolutional Layer keempat dengan 256 filter, ukuran kernel 3x3, dan aktivasi ReLU\n",
    "        tf.keras.layers.MaxPooling2D(pool_size=(2, 2)),                 # Tambahkan Max Pooling Layer kedua dengan ukuran pool 2x2\n",
    "        \n",
    "        tf.keras.layers.Flatten(),                                      # Tambahkan Flatten Layer untuk meratakan output\n",
    "        tf.keras.layers.Dense(64, activation='relu'),                   # Tambahkan Fully Connected Layer pertama dengan 64 neuron dan aktivasi ReLU\n",
    "        tf.keras.layers.Dense(32, activation='relu'),                   # Tambahkan Fully Connected Layer kedua dengan 32 neuron dan aktivasi ReLU\n",
    "        \n",
    "        tf.keras.layers.Dense(6, activation='softmax')        # Tambahkan Fully Connected Layer untuk output dengan jumlah kelas sebagai output dan aktivasi softmax\n",
    "    ])\n",
    "   \n",
    "    return model"
   ]
  },
  {
   "cell_type": "code",
   "execution_count": null,
   "metadata": {},
   "outputs": [],
   "source": [
    "# Build the CNN model\n",
    "model_one_convolution_layer = build_model_one_convolution()\n",
    "# Menampilkan ringkasan model\n",
    "model_one_convolution_layer.summary()"
   ]
  },
  {
   "cell_type": "code",
   "execution_count": null,
   "metadata": {},
   "outputs": [],
   "source": [
    "# Build the CNN model\n",
    "model_two_convolution_layer = build_model_two_convolution()\n",
    "# Menampilkan ringkasan model\n",
    "model_two_convolution_layer.summary()"
   ]
  },
  {
   "cell_type": "code",
   "execution_count": null,
   "metadata": {},
   "outputs": [],
   "source": [
    "# Build the CNN model\n",
    "model_three_convolution_layer = build_model_three_convolution()\n",
    "# Menampilkan ringkasan model\n",
    "model_three_convolution_layer.summary()"
   ]
  },
  {
   "cell_type": "code",
   "execution_count": null,
   "metadata": {},
   "outputs": [],
   "source": [
    "\n",
    "# Build the CNN model\n",
    "model_four_convolution_layer = build_model_four_convolution()\n",
    "# Menampilkan ringkasan model\n",
    "model_four_convolution_layer.summary()"
   ]
  },
  {
   "cell_type": "markdown",
   "metadata": {},
   "source": [
    "### Adam Optimizer"
   ]
  },
  {
   "cell_type": "markdown",
   "metadata": {},
   "source": [
    "### Train and evaluate the model with 1 Convolutional Layer with Adam Optimizer"
   ]
  },
  {
   "cell_type": "code",
   "execution_count": null,
   "metadata": {},
   "outputs": [],
   "source": [
    "model_one_convolution_layer.compile(optimizer='adam', loss='sparse_categorical_crossentropy', metrics=['accuracy'])"
   ]
  },
  {
   "cell_type": "code",
   "execution_count": null,
   "metadata": {},
   "outputs": [],
   "source": [
    "history = model_one_convolution_layer.fit(X_train, y_train, epochs=50, batch_size=100, validation_data=(X_val, y_val))"
   ]
  },
  {
   "cell_type": "code",
   "execution_count": null,
   "metadata": {},
   "outputs": [],
   "source": [
    "# Ambil loss dari history\n",
    "train_loss = history.history['loss']\n",
    "val_loss = history.history['val_loss']\n",
    "epochs = range(1, len(train_loss) + 1)"
   ]
  },
  {
   "cell_type": "code",
   "execution_count": null,
   "metadata": {},
   "outputs": [],
   "source": [
    "# Plot kurva loss\n",
    "plt.plot(epochs, train_loss, 'g', label='Training Loss')\n",
    "plt.plot(epochs, val_loss, 'b', label='Validation Loss')\n",
    "plt.title('Training and Validation Loss')\n",
    "plt.xlabel('Epochs')\n",
    "plt.ylabel('Loss')\n",
    "plt.legend()\n",
    "plt.show()"
   ]
  },
  {
   "cell_type": "code",
   "execution_count": null,
   "metadata": {},
   "outputs": [],
   "source": [
    "# Mengevaluasi kinerja model menggunakan data validasi\n",
    "val_loss, val_acc = model_one_convolution_layer.evaluate(X_val, y_val)\n",
    "print(\"Model Validation Accuracy:\", val_acc)"
   ]
  },
  {
   "cell_type": "markdown",
   "metadata": {},
   "source": [
    "### Evaluating the Model"
   ]
  },
  {
   "cell_type": "code",
   "execution_count": null,
   "metadata": {},
   "outputs": [],
   "source": [
    "# Evaluate the model on the test set\n",
    "test_loss, test_accuracy = model_one_convolution_layer.evaluate(X_test,y_test)\n",
    "print(f'Test loss: {test_loss}')\n",
    "print(f'Test accuracy: {test_accuracy}')"
   ]
  },
  {
   "cell_type": "markdown",
   "metadata": {},
   "source": [
    "### Train and evaluate the model with 2 Convolutional Layer with Adam Optimizer"
   ]
  },
  {
   "cell_type": "code",
   "execution_count": null,
   "metadata": {},
   "outputs": [],
   "source": [
    "# Compile model\n",
    "model_two_convolution_layer.compile(optimizer='adam', loss='sparse_categorical_crossentropy', metrics=['accuracy'])"
   ]
  },
  {
   "cell_type": "code",
   "execution_count": null,
   "metadata": {},
   "outputs": [],
   "source": [
    "# Melatih model dengan data pelatihan dan validasi\n",
    "history = model_two_convolution_layer.fit(X_train, y_train, epochs=50, batch_size=100, validation_data=(X_val, y_val))"
   ]
  },
  {
   "cell_type": "code",
   "execution_count": null,
   "metadata": {},
   "outputs": [],
   "source": [
    "# Ambil loss dari history\n",
    "train_loss = history.history['loss']\n",
    "val_loss = history.history['val_loss']\n",
    "epochs = range(1, len(train_loss) + 1)"
   ]
  },
  {
   "cell_type": "code",
   "execution_count": null,
   "metadata": {},
   "outputs": [],
   "source": [
    "# Plot kurva loss\n",
    "plt.plot(epochs, train_loss, 'g', label='Training Loss')\n",
    "plt.plot(epochs, val_loss, 'b', label='Validation Loss')\n",
    "plt.title('Training and Validation Loss')\n",
    "plt.xlabel('Epochs')\n",
    "plt.ylabel('Loss')\n",
    "plt.legend()\n",
    "plt.show()"
   ]
  },
  {
   "cell_type": "code",
   "execution_count": null,
   "metadata": {},
   "outputs": [],
   "source": [
    "# Mengevaluasi kinerja model menggunakan data validasi\n",
    "val_loss, val_acc = model_two_convolution_layer.evaluate(X_val, y_val)\n",
    "print(\"Model Validation Accuracy:\", val_acc)"
   ]
  },
  {
   "cell_type": "markdown",
   "metadata": {},
   "source": [
    "### Evaluating The Model"
   ]
  },
  {
   "cell_type": "code",
   "execution_count": null,
   "metadata": {},
   "outputs": [],
   "source": [
    "# Evaluate the model on the test set\n",
    "test_loss, test_accuracy = model_two_convolution_layer.evaluate(X_test,y_test)\n",
    "print(f'Test loss: {test_loss}')\n",
    "print(f'Test accuracy: {test_accuracy}')"
   ]
  },
  {
   "cell_type": "markdown",
   "metadata": {},
   "source": [
    "### Train and evaluate the model with 3 Convolutional Layer with Adam Optimizer"
   ]
  },
  {
   "cell_type": "code",
   "execution_count": null,
   "metadata": {},
   "outputs": [],
   "source": [
    "# Compile model\n",
    "model_three_convolution_layer.compile(optimizer='adam', loss='sparse_categorical_crossentropy', metrics=['accuracy'])"
   ]
  },
  {
   "cell_type": "code",
   "execution_count": null,
   "metadata": {},
   "outputs": [],
   "source": [
    "# Melatih model dengan data pelatihan dan validasi\n",
    "history = model_three_convolution_layer.fit(X_train, y_train, epochs=50, batch_size=100, validation_data=(X_val, y_val))"
   ]
  },
  {
   "cell_type": "code",
   "execution_count": null,
   "metadata": {},
   "outputs": [],
   "source": [
    "# Ambil loss dari history\n",
    "train_loss = history.history['loss']\n",
    "val_loss = history.history['val_loss']\n",
    "epochs = range(1, len(train_loss) + 1)"
   ]
  },
  {
   "cell_type": "code",
   "execution_count": null,
   "metadata": {},
   "outputs": [],
   "source": [
    "# Plot kurva loss\n",
    "plt.plot(epochs, train_loss, 'g', label='Training Loss')\n",
    "plt.plot(epochs, val_loss, 'b', label='Validation Loss')\n",
    "plt.title('Training and Validation Loss')\n",
    "plt.xlabel('Epochs')\n",
    "plt.ylabel('Loss')\n",
    "plt.legend()\n",
    "plt.show()"
   ]
  },
  {
   "cell_type": "code",
   "execution_count": null,
   "metadata": {},
   "outputs": [],
   "source": [
    "# Mengevaluasi kinerja model menggunakan data validasi\n",
    "val_loss, val_acc = model_three_convolution_layer.evaluate(X_val, y_val)\n",
    "print(\"Model Validation Accuracy:\", val_acc)"
   ]
  },
  {
   "cell_type": "markdown",
   "metadata": {},
   "source": [
    "### Evaluating The Model"
   ]
  },
  {
   "cell_type": "code",
   "execution_count": null,
   "metadata": {},
   "outputs": [],
   "source": [
    "# Evaluate the model on the test set\n",
    "test_loss, test_accuracy = model_three_convolution_layer.evaluate(X_test,y_test)\n",
    "print(f'Test loss: {test_loss}')\n",
    "print(f'Test accuracy: {test_accuracy}')"
   ]
  },
  {
   "cell_type": "markdown",
   "metadata": {},
   "source": [
    "### Train and evaluate the model with 4 Convolutional Layer with Adam Optimizer"
   ]
  },
  {
   "cell_type": "code",
   "execution_count": null,
   "metadata": {},
   "outputs": [],
   "source": [
    "# Compile model\n",
    "model_four_convolution_layer.compile(optimizer='adam', loss='sparse_categorical_crossentropy', metrics=['accuracy'])"
   ]
  },
  {
   "cell_type": "code",
   "execution_count": null,
   "metadata": {},
   "outputs": [],
   "source": [
    "# Melatih model dengan data pelatihan dan validasi\n",
    "history = model_four_convolution_layer.fit(X_train, y_train, epochs=50, batch_size=100, validation_data=(X_val, y_val))"
   ]
  },
  {
   "cell_type": "code",
   "execution_count": null,
   "metadata": {},
   "outputs": [],
   "source": [
    "# Ambil loss dari history\n",
    "train_loss = history.history['loss']\n",
    "val_loss = history.history['val_loss']\n",
    "epochs = range(1, len(train_loss) + 1)"
   ]
  },
  {
   "cell_type": "code",
   "execution_count": null,
   "metadata": {},
   "outputs": [],
   "source": [
    "# Plot kurva loss\n",
    "plt.plot(epochs, train_loss, 'g', label='Training Loss')\n",
    "plt.plot(epochs, val_loss, 'b', label='Validation Loss')\n",
    "plt.title('Training and Validation Loss')\n",
    "plt.xlabel('Epochs')\n",
    "plt.ylabel('Loss')\n",
    "plt.legend()\n",
    "plt.show()"
   ]
  },
  {
   "cell_type": "code",
   "execution_count": null,
   "metadata": {},
   "outputs": [],
   "source": [
    "# Mengevaluasi kinerja model menggunakan data validasi\n",
    "val_loss, val_acc = model_four_convolution_layer.evaluate(X_val, y_val)\n",
    "print(\"Model Validation Accuracy:\", val_acc)"
   ]
  },
  {
   "cell_type": "markdown",
   "metadata": {},
   "source": [
    "### Evaluating The Model"
   ]
  },
  {
   "cell_type": "code",
   "execution_count": null,
   "metadata": {},
   "outputs": [],
   "source": [
    "# Mengevaluasi kinerja model menggunakan data validasi\n",
    "test_loss, test_acc = model_four_convolution_layer.evaluate(X_test,y_test)\n",
    "print('Test loss:', test_loss)\n",
    "print('Test accuracy:', test_acc)"
   ]
  }
 ],
 "metadata": {
  "kernelspec": {
   "display_name": "base",
   "language": "python",
   "name": "python3"
  },
  "language_info": {
   "codemirror_mode": {
    "name": "ipython",
    "version": 3
   },
   "file_extension": ".py",
   "mimetype": "text/x-python",
   "name": "python",
   "nbconvert_exporter": "python",
   "pygments_lexer": "ipython3",
   "version": "3.11.5"
  }
 },
 "nbformat": 4,
 "nbformat_minor": 2
}
